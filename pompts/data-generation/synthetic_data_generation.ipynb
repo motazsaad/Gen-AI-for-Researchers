{
  "nbformat": 4,
  "nbformat_minor": 0,
  "metadata": {
    "colab": {
      "provenance": []
    },
    "kernelspec": {
      "name": "python3",
      "display_name": "Python 3"
    },
    "language_info": {
      "name": "python"
    }
  },
  "cells": [
    {
      "cell_type": "code",
      "execution_count": null,
      "metadata": {
        "colab": {
          "base_uri": "https://localhost:8080/"
        },
        "id": "s2JuuP3V-2fJ",
        "outputId": "218a916c-05ab-459c-bb90-6fafdc23cfac"
      },
      "outputs": [
        {
          "output_type": "stream",
          "name": "stdout",
          "text": [
            "Collecting Faker\n",
            "  Downloading Faker-23.1.0-py3-none-any.whl (1.7 MB)\n",
            "\u001b[2K     \u001b[90m━━━━━━━━━━━━━━━━━━━━━━━━━━━━━━━━━━━━━━━━\u001b[0m \u001b[32m1.7/1.7 MB\u001b[0m \u001b[31m10.0 MB/s\u001b[0m eta \u001b[36m0:00:00\u001b[0m\n",
            "\u001b[?25hRequirement already satisfied: python-dateutil>=2.4 in /usr/local/lib/python3.10/dist-packages (from Faker) (2.8.2)\n",
            "Requirement already satisfied: six>=1.5 in /usr/local/lib/python3.10/dist-packages (from python-dateutil>=2.4->Faker) (1.16.0)\n",
            "Installing collected packages: Faker\n",
            "Successfully installed Faker-23.1.0\n"
          ]
        }
      ],
      "source": [
        "!pip install sdv"
      ]
    },
    {
      "cell_type": "code",
      "source": [
        "import pandas as pd\n",
        "from sdv.datasets.demo import download_demo\n",
        "from sdv.single_table import CTGANSynthesizer\n",
        "from sdv.metadata import SingleTableMetadata\n",
        "\n",
        "# Get the 'adult' demo dataset\n",
        "data, metadata = download_demo('single_table', dataset_name='adult')\n",
        "\n",
        "# Let's peek at what this looks like:\n",
        "print(data.head())\n",
        "\n",
        "# Build a model to learn the structure of our data\n",
        "model = CTGANSynthesizer(metadata)\n",
        "model.fit(data)\n",
        "\n",
        "# Generate 1000 new, synthetic records\n",
        "new_data = model.sample(1000)"
      ],
      "metadata": {
        "colab": {
          "base_uri": "https://localhost:8080/"
        },
        "id": "9Suxse0FVUjK",
        "outputId": "f98b678a-3aeb-4cc3-86b6-1a7334872db4"
      },
      "execution_count": null,
      "outputs": [
        {
          "output_type": "stream",
          "name": "stdout",
          "text": [
            "   age workclass  fnlwgt     education  education-num      marital-status  \\\n",
            "0   27   Private  177119  Some-college             10            Divorced   \n",
            "1   27   Private  216481     Bachelors             13       Never-married   \n",
            "2   25   Private  256263    Assoc-acdm             12  Married-civ-spouse   \n",
            "3   46   Private  147640       5th-6th              3  Married-civ-spouse   \n",
            "4   45   Private  172822          11th              7            Divorced   \n",
            "\n",
            "         occupation   relationship                race     sex  capital-gain  \\\n",
            "0      Adm-clerical      Unmarried               White  Female             0   \n",
            "1    Prof-specialty  Not-in-family               White  Female             0   \n",
            "2             Sales        Husband               White    Male             0   \n",
            "3  Transport-moving        Husband  Amer-Indian-Eskimo    Male             0   \n",
            "4  Transport-moving  Not-in-family               White    Male             0   \n",
            "\n",
            "   capital-loss  hours-per-week native-country  label  \n",
            "0             0              44  United-States  <=50K  \n",
            "1             0              40  United-States  <=50K  \n",
            "2             0              40  United-States  <=50K  \n",
            "3          1902              40  United-States  <=50K  \n",
            "4          2824              76  United-States   >50K  \n"
          ]
        }
      ]
    },
    {
      "cell_type": "code",
      "source": [
        "import pandas as pd\n",
        "\n",
        "# Grab some statistical measures from the original data\n",
        "real_age_mean = data['age'].mean()\n",
        "real_age_dist = data['age'].value_counts().sort_index()\n",
        "\n",
        "# Compare them to the synthetic data\n",
        "synth_age_mean = new_data['age'].mean()\n",
        "synth_age_dist = new_data['age'].value_counts().sort_index()\n",
        "\n",
        "# Print the results for easy comparison\n",
        "print(\"Real age average:\", real_age_mean)\n",
        "print(\"Synthetic age average:\", synth_age_mean)\n",
        "print(\"Real age distribution:\\n\", real_age_dist)\n",
        "print(\"Synthetic age distribution:\\n\", synth_age_dist)"
      ],
      "metadata": {
        "colab": {
          "base_uri": "https://localhost:8080/"
        },
        "id": "p0kIJtE4VUoV",
        "outputId": "bdfb8d1b-2b37-4c5c-82fb-85518b95467d"
      },
      "execution_count": null,
      "outputs": [
        {
          "output_type": "stream",
          "name": "stdout",
          "text": [
            "Real age average: 38.58164675532078\n",
            "Synthetic age average: 36.819\n",
            "Real age distribution:\n",
            " 17    395\n",
            "18    550\n",
            "19    712\n",
            "20    753\n",
            "21    720\n",
            "     ... \n",
            "85      3\n",
            "86      1\n",
            "87      1\n",
            "88      3\n",
            "90     43\n",
            "Name: age, Length: 73, dtype: int64\n",
            "Synthetic age distribution:\n",
            " 17    15\n",
            "18    26\n",
            "19    25\n",
            "20    27\n",
            "21    21\n",
            "      ..\n",
            "78     1\n",
            "80     1\n",
            "81     1\n",
            "84     1\n",
            "85     1\n",
            "Name: age, Length: 63, dtype: int64\n"
          ]
        }
      ]
    },
    {
      "cell_type": "code",
      "source": [
        "import matplotlib.pyplot as plt\n",
        "\n",
        "# Plot histograms of age distributions (real vs. synthetic) side-by-side\n",
        "plt.figure(figsize=(10, 5))\n",
        "plt.hist(data['age'], label='Real Data', alpha=0.7)\n",
        "plt.hist(new_data['age'], label='Synthetic Data', alpha=0.7)\n",
        "plt.legend()\n",
        "plt.title('Age Distribution Comparison')\n",
        "plt.show()"
      ],
      "metadata": {
        "colab": {
          "base_uri": "https://localhost:8080/",
          "height": 468
        },
        "id": "ptVh4_tPVUq7",
        "outputId": "efb29b5f-2f7e-4da1-ff03-1db6fd07dad4"
      },
      "execution_count": null,
      "outputs": [
        {
          "output_type": "display_data",
          "data": {
            "text/plain": [
              "<Figure size 1000x500 with 1 Axes>"
            ],
            "image/png": "[encoded data removed]"
          },
          "metadata": {}
        }
      ]
    },
    {
      "cell_type": "code",
      "source": [
        "import pandas as pd\n",
        "from sklearn.model_selection import train_test_split\n",
        "from sklearn.linear_model import LogisticRegression\n",
        "from sklearn.metrics import accuracy_score\n",
        "from sklearn.preprocessing import OrdinalEncoder\n",
        "\n",
        "# Before the 'train_test_split'...\n",
        "encoder = OrdinalEncoder()\n",
        "\n",
        "# Step 1: Prep real data\n",
        "X_real = data[['age', 'education']]\n",
        "y_real = data['label']\n",
        "X_real['education'] = encoder.fit_transform(data[['education']])\n",
        "\n",
        "X_train_real, X_test_real, y_train_real, y_test_real = train_test_split(X_real, y_real, test_size=0.3)\n",
        "\n",
        "# Step 2: Train a model on REAL data\n",
        "model_real = LogisticRegression()\n",
        "model_real.fit(X_train_real, y_train_real)\n",
        "\n",
        "y_pred_real = model_real.predict(X_test_real)\n",
        "accuracy_real = accuracy_score(y_test_real, y_pred_real)\n",
        "\n",
        "# Step 3: Repeat for SYNTHETIC data\n",
        "X_synth = new_data[['age', 'education']]\n",
        "y_synth = new_data['label']\n",
        "X_synth['education'] = encoder.transform(new_data[['education']])\n",
        "\n",
        "X_train_synth, X_test_synth, y_train_synth, y_test_synth = train_test_split(X_synth, y_synth, test_size=0.3)\n",
        "\n",
        "model_synth = LogisticRegression()\n",
        "model_synth.fit(X_train_synth, y_train_synth)\n",
        "\n",
        "y_pred_synth = model_synth.predict(X_test_synth)\n",
        "accuracy_synth = accuracy_score(y_test_synth, y_pred_synth)\n",
        "\n",
        "# Step 4: Compare!\n",
        "print(\"Accuracy on real data: \", accuracy_real)\n",
        "print(\"Accuracy on synthetic data: \", accuracy_synth)"
      ],
      "metadata": {
        "colab": {
          "base_uri": "https://localhost:8080/"
        },
        "id": "6zWJDuzDVUtv",
        "outputId": "a63764d1-311f-4acf-cddd-9e0519b1a1e2"
      },
      "execution_count": null,
      "outputs": [
        {
          "output_type": "stream",
          "name": "stdout",
          "text": [
            "Accuracy on real data:  0.7423482444467192\n",
            "Accuracy on synthetic data:  0.8166666666666667\n"
          ]
        }
      ]
    },
    {
      "cell_type": "code",
      "source": [],
      "metadata": {
        "id": "q3_WAX7pVUwZ"
      },
      "execution_count": null,
      "outputs": []
    }
  ]
}